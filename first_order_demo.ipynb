{
  "nbformat": 4,
  "nbformat_minor": 0,
  "metadata": {
    "kernelspec": {
      "display_name": "Python 3",
      "language": "python",
      "name": "python3"
    },
    "accelerator": "GPU",
    "language_info": {
      "codemirror_mode": {
        "name": "ipython",
        "version": 3
      },
      "file_extension": ".py",
      "mimetype": "text/x-python",
      "name": "python",
      "nbconvert_exporter": "python",
      "pygments_lexer": "ipython3",
      "version": "3.6.8"
    },
    "colab": {
      "name": "first order demo",
      "provenance": [],
      "collapsed_sections": [],
      "include_colab_link": true
    }
  },
  "cells": [
    {
      "cell_type": "markdown",
      "metadata": {
        "id": "view-in-github",
        "colab_type": "text"
      },
      "source": [
        "<a href=\"https://colab.research.google.com/github/marukun712/first-order-demo/blob/main/first_order_demo.ipynb\" target=\"_parent\"><img src=\"https://colab.research.google.com/assets/colab-badge.svg\" alt=\"Open In Colab\"/></a>"
      ]
    },
    {
      "cell_type": "markdown",
      "metadata": {
        "id": "mjMdBxPMDDtQ"
      },
      "source": [
        "# セットアップ\n"
      ]
    },
    {
      "cell_type": "markdown",
      "metadata": {
        "id": "gndt-OBncID4"
      },
      "source": [
        "順に実行してください"
      ]
    },
    {
      "cell_type": "code",
      "metadata": {
        "id": "Llf27LAuBmQN"
      },
      "source": [
        "!pip install nnabla-ext-cuda100\n",
        "!git clone https://github.com/sony/nnabla-examples.git\n",
        "%cd nnabla-examples/GANs/first-order-model"
      ],
      "execution_count": null,
      "outputs": []
    },
    {
      "cell_type": "code",
      "metadata": {
        "id": "XKFnHVfVBmQO"
      },
      "source": [
        "!pip install --upgrade PyYAML"
      ],
      "execution_count": null,
      "outputs": []
    },
    {
      "cell_type": "code",
      "metadata": {
        "id": "xD49IpkdBmQP"
      },
      "source": [
        "from IPython.display import HTML\n",
        "from base64 import b64encode\n",
        "\n",
        "\n",
        "def play_video(filename, height=512, width=512):\n",
        "    mp4 = open(filename, 'rb').read()\n",
        "    data_url = \"data:video/mp4;base64,\" + b64encode(mp4).decode()\n",
        "    return HTML(f\"\"\"\n",
        "    <video width={width} height={height} controls>\n",
        "          <source src={data_url} type=\"video/mp4\">\n",
        "    </video>\"\"\")"
      ],
      "execution_count": null,
      "outputs": []
    },
    {
      "cell_type": "markdown",
      "metadata": {
        "id": "HqxgO2WVLESx"
      },
      "source": [
        "# 実行（ファイル追加）"
      ]
    },
    {
      "cell_type": "markdown",
      "metadata": {
        "id": "0Zr3oUz4cLGb"
      },
      "source": [
        "事前に動かしたい画像と元動画を用意し（正方形だと良い）画像をimage.png 動画をmovie.mp4と名付けておいてください。"
      ]
    },
    {
      "cell_type": "markdown",
      "metadata": {
        "id": "vPkQ1Kh6MqIz"
      },
      "source": [
        "/content/nnabla-examples/GANs/first-order-model/imgs にimage.png movie.mp4を追加してください。"
      ]
    },
    {
      "cell_type": "markdown",
      "metadata": {
        "id": "7hx36i0Hcc6_"
      },
      "source": [
        "後は順に実行"
      ]
    },
    {
      "cell_type": "code",
      "metadata": {
        "id": "njQo-99iJqzI"
      },
      "source": [
        "!python animate.py --source imgs/image.png \\\n",
        "                  --driving imgs/movie.mp4 \\\n",
        "                  --adapt-movement-scale --fps 24"
      ],
      "execution_count": null,
      "outputs": []
    },
    {
      "cell_type": "code",
      "metadata": {
        "id": "cAMHVpuSJiYo"
      },
      "source": [
        "play_video('result/arbitrary/image.png_by_movie.mp4')"
      ],
      "execution_count": null,
      "outputs": []
    }
  ]
}